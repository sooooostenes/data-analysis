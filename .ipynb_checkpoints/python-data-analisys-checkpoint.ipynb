{
 "cells": [
  {
   "cell_type": "code",
   "execution_count": 4,
   "metadata": {},
   "outputs": [],
   "source": [
    "import json\n",
    "from collections import Counter\n",
    "filename = 'usagov_bitly_data2012-03-16-1331923249.txt'\n",
    "filepath = \"C:\\\\Users\\\\soste\\\\dev\\\\python\\\\np\\\\\"\n",
    "file = filepath+filename\n",
    "fc = open(file)\n",
    "\n",
    "# Simplified form\n",
    "# records = [json.loads(line) for line in open(file)]\n",
    "\n",
    "records = []\n",
    "for line in open(file):\n",
    "        records.append(json.loads(line))\n",
    "        \n",
    "# Simplified form\n",
    "# time_zones = [rec['tz'] for rec in records if 'tz' in rec]\n",
    "\n",
    "timezones = []\n",
    "for rec in records:\n",
    "    if 'tz' in rec:\n",
    "       timezones.append(rec['tz']) \n"
   ]
  },
  {
   "cell_type": "code",
   "execution_count": 9,
   "metadata": {},
   "outputs": [],
   "source": [
    "# Count data\n",
    "counter = Counter(timezones)\n",
    "counter.most_common(10)\n",
    "# Using pandas\n",
    "import pandas as pd\n",
    "frame = pd.DataFrame(records)\n",
    "# frame['tz'][:10]"
   ]
  },
  {
   "cell_type": "code",
   "execution_count": 8,
   "metadata": {},
   "outputs": [],
   "source": [
    "# frame['tz'].value_counts()"
   ]
  },
  {
   "cell_type": "code",
   "execution_count": 223,
   "metadata": {},
   "outputs": [
    {
     "data": {
      "text/plain": [
       "<matplotlib.axes._subplots.AxesSubplot at 0x24af1c60948>"
      ]
     },
     "execution_count": 223,
     "metadata": {},
     "output_type": "execute_result"
    },
    {
     "data": {
      "image/png": "[encoded data removed]",
      "text/plain": [
       "<Figure size 432x288 with 1 Axes>"
      ]
     },
     "metadata": {
      "needs_background": "light"
     },
     "output_type": "display_data"
    }
   ],
   "source": [
    "# pd.set_option('display.max_columns', None)  # or 1000\n",
    "# pd.set_option('display.max_rows', None)  # or 1000\n",
    "# pd.set_option('display.max_colwidth', -1)  # or 199\n",
    "\n",
    "# frame = pd.DataFrame(records)\n",
    "# frame.head()\n",
    "# Replace all Nan with Missing\n",
    "tz = frame['tz'].fillna(\"-----MISSING------\")\n",
    "# Replace all '' with not informed\n",
    "tz[tz == ''] = '----Not Informed----'\n",
    "\n",
    "tz_qnts = tz.value_counts()\n",
    "tz_qnts = tz_qnts[:10]\n",
    "\n",
    "tz_qnts.plot(kind='barh', rot=0)\n"
   ]
  },
  {
   "cell_type": "code",
   "execution_count": 16,
   "metadata": {},
   "outputs": [],
   "source": [
    "# Replace all '' with unknow\n",
    "# fm.value_counts()"
   ]
  },
  {
   "cell_type": "code",
   "execution_count": 51,
   "metadata": {},
   "outputs": [
    {
     "ename": "TypeError",
     "evalue": "parser_f() got an unexpected keyword argument 'name'",
     "output_type": "error",
     "traceback": [
      "\u001b[1;31m---------------------------------------------------------------------------\u001b[0m",
      "\u001b[1;31mTypeError\u001b[0m                                 Traceback (most recent call last)",
      "\u001b[1;32m<ipython-input-51-b2c1e58e95ab>\u001b[0m in \u001b[0;36m<module>\u001b[1;34m\u001b[0m\n\u001b[0;32m      1\u001b[0m \u001b[1;32mimport\u001b[0m \u001b[0mpandas\u001b[0m \u001b[1;32mas\u001b[0m \u001b[0mpd\u001b[0m\u001b[1;33m\u001b[0m\u001b[1;33m\u001b[0m\u001b[0m\n\u001b[0;32m      2\u001b[0m \u001b[0mname\u001b[0m \u001b[1;33m=\u001b[0m \u001b[1;33m[\u001b[0m\u001b[1;34m'id'\u001b[0m\u001b[1;33m,\u001b[0m\u001b[1;34m'nome'\u001b[0m\u001b[1;33m,\u001b[0m\u001b[1;34m'tipo'\u001b[0m\u001b[1;33m,\u001b[0m\u001b[1;34m'numero'\u001b[0m\u001b[1;33m,\u001b[0m\u001b[1;34m'endereco_id'\u001b[0m\u001b[1;33m,\u001b[0m\u001b[1;34m'ponto_referencia'\u001b[0m\u001b[1;33m,\u001b[0m\u001b[1;34m't1'\u001b[0m\u001b[1;33m,\u001b[0m\u001b[1;34m't2'\u001b[0m\u001b[1;33m,\u001b[0m\u001b[1;34m'info'\u001b[0m\u001b[1;33m,\u001b[0m\u001b[1;34m'created'\u001b[0m\u001b[1;33m,\u001b[0m\u001b[1;34m'modified'\u001b[0m\u001b[1;33m]\u001b[0m\u001b[1;33m\u001b[0m\u001b[1;33m\u001b[0m\u001b[0m\n\u001b[1;32m----> 3\u001b[1;33m \u001b[0musers\u001b[0m \u001b[1;33m=\u001b[0m \u001b[0mpd\u001b[0m\u001b[1;33m.\u001b[0m\u001b[0mread_csv\u001b[0m\u001b[1;33m(\u001b[0m\u001b[1;34m\"C:\\\\Users\\\\soste\\\\dev\\\\python\\\\python-data-analisys\\\\01\\\\clientes.csv\"\u001b[0m\u001b[1;33m,\u001b[0m \u001b[0mname\u001b[0m\u001b[1;33m=\u001b[0m\u001b[0mname\u001b[0m\u001b[1;33m)\u001b[0m\u001b[1;33m\u001b[0m\u001b[1;33m\u001b[0m\u001b[0m\n\u001b[0m\u001b[0;32m      4\u001b[0m \u001b[0musers\u001b[0m\u001b[1;33m.\u001b[0m\u001b[0mhead\u001b[0m\u001b[1;33m(\u001b[0m\u001b[1;33m)\u001b[0m\u001b[1;33m\u001b[0m\u001b[1;33m\u001b[0m\u001b[0m\n",
      "\u001b[1;31mTypeError\u001b[0m: parser_f() got an unexpected keyword argument 'name'"
     ]
    }
   ],
   "source": [
    "import pandas as pd\n",
    "users = pd.read_csv(\"C:\\\\Users\\\\soste\\\\dev\\\\python\\\\python-data-analisys\\\\01\\\\clientes.csv\", name=['id','nome','tipo','numero','endereco_id','ponto_referencia','t1','t2','info','created','modified'])\n",
    "users.head()"
   ]
  },
  {
   "cell_type": "code",
   "execution_count": null,
   "metadata": {},
   "outputs": [],
   "source": []
  },
  {
   "cell_type": "code",
   "execution_count": null,
   "metadata": {},
   "outputs": [],
   "source": []
  },
  {
   "cell_type": "code",
   "execution_count": null,
   "metadata": {},
   "outputs": [],
   "source": []
  },
  {
   "cell_type": "code",
   "execution_count": null,
   "metadata": {},
   "outputs": [],
   "source": []
  }
 ],
 "metadata": {
  "kernelspec": {
   "display_name": "Python 3",
   "language": "python",
   "name": "python3"
  },
  "language_info": {
   "codemirror_mode": {
    "name": "ipython",
    "version": 3
   },
   "file_extension": ".py",
   "mimetype": "text/x-python",
   "name": "python",
   "nbconvert_exporter": "python",
   "pygments_lexer": "ipython3",
   "version": "3.7.4"
  }
 },
 "nbformat": 4,
 "nbformat_minor": 4
}
